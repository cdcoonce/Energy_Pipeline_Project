{
 "cells": [
  {
   "cell_type": "markdown",
   "id": "6bfc4481",
   "metadata": {},
   "source": [
    "# Imports"
   ]
  },
  {
   "cell_type": "code",
   "execution_count": 2,
   "id": "c0ec24d3",
   "metadata": {},
   "outputs": [],
   "source": [
    "import pandas as pd\n",
    "import polars as pl\n"
   ]
  },
  {
   "cell_type": "markdown",
   "id": "102f5019",
   "metadata": {},
   "source": [
    "# Load Data"
   ]
  },
  {
   "cell_type": "code",
   "execution_count": 3,
   "id": "271b132b",
   "metadata": {},
   "outputs": [],
   "source": [
    "df = pl.read_csv('../data/processed/power_output_cleaned.csv')"
   ]
  },
  {
   "cell_type": "markdown",
   "id": "8f7e0da4",
   "metadata": {},
   "source": [
    "## View The Data"
   ]
  },
  {
   "cell_type": "code",
   "execution_count": 4,
   "id": "9f867982",
   "metadata": {},
   "outputs": [
    {
     "data": {
      "text/html": [
       "<div><style>\n",
       ".dataframe > thead > tr,\n",
       ".dataframe > tbody > tr {\n",
       "  text-align: right;\n",
       "  white-space: pre-wrap;\n",
       "}\n",
       "</style>\n",
       "<small>shape: (5, 9)</small><table border=\"1\" class=\"dataframe\"><thead><tr><th>timestamp</th><th>asset_id</th><th>site</th><th>power_kw</th><th>capacity_kw</th><th>capacity_factor</th><th>date</th><th>hour</th><th>weekday</th></tr><tr><td>str</td><td>str</td><td>str</td><td>f64</td><td>i64</td><td>f64</td><td>str</td><td>i64</td><td>i64</td></tr></thead><tbody><tr><td>&quot;2024-06-01T00:00:00.000000&quot;</td><td>&quot;ASSET-000&quot;</td><td>&quot;SolarFarmA&quot;</td><td>284.29</td><td>500</td><td>0.56858</td><td>&quot;2024-06-01&quot;</td><td>0</td><td>6</td></tr><tr><td>&quot;2024-06-01T01:00:00.000000&quot;</td><td>&quot;ASSET-000&quot;</td><td>&quot;SolarFarmA&quot;</td><td>310.14</td><td>500</td><td>0.62028</td><td>&quot;2024-06-01&quot;</td><td>1</td><td>6</td></tr><tr><td>&quot;2024-06-01T02:00:00.000000&quot;</td><td>&quot;ASSET-000&quot;</td><td>&quot;SolarFarmA&quot;</td><td>324.99</td><td>500</td><td>0.64998</td><td>&quot;2024-06-01&quot;</td><td>2</td><td>6</td></tr><tr><td>&quot;2024-06-01T03:00:00.000000&quot;</td><td>&quot;ASSET-000&quot;</td><td>&quot;SolarFarmA&quot;</td><td>278.79</td><td>500</td><td>0.55758</td><td>&quot;2024-06-01&quot;</td><td>3</td><td>6</td></tr><tr><td>&quot;2024-06-01T04:00:00.000000&quot;</td><td>&quot;ASSET-000&quot;</td><td>&quot;SolarFarmA&quot;</td><td>198.49</td><td>500</td><td>0.39698</td><td>&quot;2024-06-01&quot;</td><td>4</td><td>6</td></tr></tbody></table></div>"
      ],
      "text/plain": [
       "shape: (5, 9)\n",
       "┌──────────────┬───────────┬────────────┬──────────┬───┬─────────────┬────────────┬──────┬─────────┐\n",
       "│ timestamp    ┆ asset_id  ┆ site       ┆ power_kw ┆ … ┆ capacity_fa ┆ date       ┆ hour ┆ weekday │\n",
       "│ ---          ┆ ---       ┆ ---        ┆ ---      ┆   ┆ ctor        ┆ ---        ┆ ---  ┆ ---     │\n",
       "│ str          ┆ str       ┆ str        ┆ f64      ┆   ┆ ---         ┆ str        ┆ i64  ┆ i64     │\n",
       "│              ┆           ┆            ┆          ┆   ┆ f64         ┆            ┆      ┆         │\n",
       "╞══════════════╪═══════════╪════════════╪══════════╪═══╪═════════════╪════════════╪══════╪═════════╡\n",
       "│ 2024-06-01T0 ┆ ASSET-000 ┆ SolarFarmA ┆ 284.29   ┆ … ┆ 0.56858     ┆ 2024-06-01 ┆ 0    ┆ 6       │\n",
       "│ 0:00:00.0000 ┆           ┆            ┆          ┆   ┆             ┆            ┆      ┆         │\n",
       "│ 00           ┆           ┆            ┆          ┆   ┆             ┆            ┆      ┆         │\n",
       "│ 2024-06-01T0 ┆ ASSET-000 ┆ SolarFarmA ┆ 310.14   ┆ … ┆ 0.62028     ┆ 2024-06-01 ┆ 1    ┆ 6       │\n",
       "│ 1:00:00.0000 ┆           ┆            ┆          ┆   ┆             ┆            ┆      ┆         │\n",
       "│ 00           ┆           ┆            ┆          ┆   ┆             ┆            ┆      ┆         │\n",
       "│ 2024-06-01T0 ┆ ASSET-000 ┆ SolarFarmA ┆ 324.99   ┆ … ┆ 0.64998     ┆ 2024-06-01 ┆ 2    ┆ 6       │\n",
       "│ 2:00:00.0000 ┆           ┆            ┆          ┆   ┆             ┆            ┆      ┆         │\n",
       "│ 00           ┆           ┆            ┆          ┆   ┆             ┆            ┆      ┆         │\n",
       "│ 2024-06-01T0 ┆ ASSET-000 ┆ SolarFarmA ┆ 278.79   ┆ … ┆ 0.55758     ┆ 2024-06-01 ┆ 3    ┆ 6       │\n",
       "│ 3:00:00.0000 ┆           ┆            ┆          ┆   ┆             ┆            ┆      ┆         │\n",
       "│ 00           ┆           ┆            ┆          ┆   ┆             ┆            ┆      ┆         │\n",
       "│ 2024-06-01T0 ┆ ASSET-000 ┆ SolarFarmA ┆ 198.49   ┆ … ┆ 0.39698     ┆ 2024-06-01 ┆ 4    ┆ 6       │\n",
       "│ 4:00:00.0000 ┆           ┆            ┆          ┆   ┆             ┆            ┆      ┆         │\n",
       "│ 00           ┆           ┆            ┆          ┆   ┆             ┆            ┆      ┆         │\n",
       "└──────────────┴───────────┴────────────┴──────────┴───┴─────────────┴────────────┴──────┴─────────┘"
      ]
     },
     "execution_count": 4,
     "metadata": {},
     "output_type": "execute_result"
    }
   ],
   "source": [
    "df.head()"
   ]
  },
  {
   "cell_type": "code",
   "execution_count": 5,
   "id": "3a4db2d9",
   "metadata": {},
   "outputs": [
    {
     "data": {
      "text/plain": [
       "Schema([('timestamp', String),\n",
       "        ('asset_id', String),\n",
       "        ('site', String),\n",
       "        ('power_kw', Float64),\n",
       "        ('capacity_kw', Int64),\n",
       "        ('capacity_factor', Float64),\n",
       "        ('date', String),\n",
       "        ('hour', Int64),\n",
       "        ('weekday', Int64)])"
      ]
     },
     "execution_count": 5,
     "metadata": {},
     "output_type": "execute_result"
    }
   ],
   "source": [
    "df.schema"
   ]
  },
  {
   "cell_type": "code",
   "execution_count": 6,
   "id": "005ca066",
   "metadata": {},
   "outputs": [
    {
     "data": {
      "text/html": [
       "<div><style>\n",
       ".dataframe > thead > tr,\n",
       ".dataframe > tbody > tr {\n",
       "  text-align: right;\n",
       "  white-space: pre-wrap;\n",
       "}\n",
       "</style>\n",
       "<small>shape: (9, 10)</small><table border=\"1\" class=\"dataframe\"><thead><tr><th>statistic</th><th>timestamp</th><th>asset_id</th><th>site</th><th>power_kw</th><th>capacity_kw</th><th>capacity_factor</th><th>date</th><th>hour</th><th>weekday</th></tr><tr><td>str</td><td>str</td><td>str</td><td>str</td><td>f64</td><td>f64</td><td>f64</td><td>str</td><td>f64</td><td>f64</td></tr></thead><tbody><tr><td>&quot;count&quot;</td><td>&quot;7200&quot;</td><td>&quot;7200&quot;</td><td>&quot;7200&quot;</td><td>7200.0</td><td>7200.0</td><td>7200.0</td><td>&quot;7200&quot;</td><td>7200.0</td><td>7200.0</td></tr><tr><td>&quot;null_count&quot;</td><td>&quot;0&quot;</td><td>&quot;0&quot;</td><td>&quot;0&quot;</td><td>0.0</td><td>0.0</td><td>0.0</td><td>&quot;0&quot;</td><td>0.0</td><td>0.0</td></tr><tr><td>&quot;mean&quot;</td><td>null</td><td>null</td><td>null</td><td>499.512337</td><td>1100.0</td><td>0.519531</td><td>null</td><td>11.5</td><td>4.166667</td></tr><tr><td>&quot;std&quot;</td><td>null</td><td>null</td><td>null</td><td>275.327575</td><td>770.767482</td><td>0.126112</td><td>null</td><td>6.922667</td><td>2.034567</td></tr><tr><td>&quot;min&quot;</td><td>&quot;2024-06-01T00:00:00.000000&quot;</td><td>&quot;ASSET-000&quot;</td><td>&quot;SolarFarmA&quot;</td><td>120.73</td><td>400.0</td><td>0.19433</td><td>&quot;2024-06-01&quot;</td><td>0.0</td><td>1.0</td></tr><tr><td>&quot;25%&quot;</td><td>null</td><td>null</td><td>null</td><td>278.71</td><td>500.0</td><td>0.41338</td><td>null</td><td>6.0</td><td>2.0</td></tr><tr><td>&quot;50%&quot;</td><td>null</td><td>null</td><td>null</td><td>367.23</td><td>600.0</td><td>0.517583</td><td>null</td><td>12.0</td><td>4.0</td></tr><tr><td>&quot;75%&quot;</td><td>null</td><td>null</td><td>null</td><td>732.96</td><td>2000.0</td><td>0.618</td><td>null</td><td>17.0</td><td>6.0</td></tr><tr><td>&quot;max&quot;</td><td>&quot;2024-06-30T23:00:00.000000&quot;</td><td>&quot;ASSET-009&quot;</td><td>&quot;WindFarmA&quot;</td><td>1395.46</td><td>2500.0</td><td>0.952683</td><td>&quot;2024-06-30&quot;</td><td>23.0</td><td>7.0</td></tr></tbody></table></div>"
      ],
      "text/plain": [
       "shape: (9, 10)\n",
       "┌────────────┬───────────┬───────────┬───────────┬───┬───────────┬───────────┬──────────┬──────────┐\n",
       "│ statistic  ┆ timestamp ┆ asset_id  ┆ site      ┆ … ┆ capacity_ ┆ date      ┆ hour     ┆ weekday  │\n",
       "│ ---        ┆ ---       ┆ ---       ┆ ---       ┆   ┆ factor    ┆ ---       ┆ ---      ┆ ---      │\n",
       "│ str        ┆ str       ┆ str       ┆ str       ┆   ┆ ---       ┆ str       ┆ f64      ┆ f64      │\n",
       "│            ┆           ┆           ┆           ┆   ┆ f64       ┆           ┆          ┆          │\n",
       "╞════════════╪═══════════╪═══════════╪═══════════╪═══╪═══════════╪═══════════╪══════════╪══════════╡\n",
       "│ count      ┆ 7200      ┆ 7200      ┆ 7200      ┆ … ┆ 7200.0    ┆ 7200      ┆ 7200.0   ┆ 7200.0   │\n",
       "│ null_count ┆ 0         ┆ 0         ┆ 0         ┆ … ┆ 0.0       ┆ 0         ┆ 0.0      ┆ 0.0      │\n",
       "│ mean       ┆ null      ┆ null      ┆ null      ┆ … ┆ 0.519531  ┆ null      ┆ 11.5     ┆ 4.166667 │\n",
       "│ std        ┆ null      ┆ null      ┆ null      ┆ … ┆ 0.126112  ┆ null      ┆ 6.922667 ┆ 2.034567 │\n",
       "│ min        ┆ 2024-06-0 ┆ ASSET-000 ┆ SolarFarm ┆ … ┆ 0.19433   ┆ 2024-06-0 ┆ 0.0      ┆ 1.0      │\n",
       "│            ┆ 1T00:00:0 ┆           ┆ A         ┆   ┆           ┆ 1         ┆          ┆          │\n",
       "│            ┆ 0.000000  ┆           ┆           ┆   ┆           ┆           ┆          ┆          │\n",
       "│ 25%        ┆ null      ┆ null      ┆ null      ┆ … ┆ 0.41338   ┆ null      ┆ 6.0      ┆ 2.0      │\n",
       "│ 50%        ┆ null      ┆ null      ┆ null      ┆ … ┆ 0.517583  ┆ null      ┆ 12.0     ┆ 4.0      │\n",
       "│ 75%        ┆ null      ┆ null      ┆ null      ┆ … ┆ 0.618     ┆ null      ┆ 17.0     ┆ 6.0      │\n",
       "│ max        ┆ 2024-06-3 ┆ ASSET-009 ┆ WindFarmA ┆ … ┆ 0.952683  ┆ 2024-06-3 ┆ 23.0     ┆ 7.0      │\n",
       "│            ┆ 0T23:00:0 ┆           ┆           ┆   ┆           ┆ 0         ┆          ┆          │\n",
       "│            ┆ 0.000000  ┆           ┆           ┆   ┆           ┆           ┆          ┆          │\n",
       "└────────────┴───────────┴───────────┴───────────┴───┴───────────┴───────────┴──────────┴──────────┘"
      ]
     },
     "execution_count": 6,
     "metadata": {},
     "output_type": "execute_result"
    }
   ],
   "source": [
    "df.describe()"
   ]
  },
  {
   "cell_type": "markdown",
   "id": "930653d6",
   "metadata": {},
   "source": [
    "## Filter Rows"
   ]
  },
  {
   "cell_type": "code",
   "execution_count": 7,
   "id": "d9e3290e",
   "metadata": {},
   "outputs": [
    {
     "data": {
      "text/html": [
       "<div><style>\n",
       ".dataframe > thead > tr,\n",
       ".dataframe > tbody > tr {\n",
       "  text-align: right;\n",
       "  white-space: pre-wrap;\n",
       "}\n",
       "</style>\n",
       "<small>shape: (4, 9)</small><table border=\"1\" class=\"dataframe\"><thead><tr><th>timestamp</th><th>asset_id</th><th>site</th><th>power_kw</th><th>capacity_kw</th><th>capacity_factor</th><th>date</th><th>hour</th><th>weekday</th></tr><tr><td>str</td><td>str</td><td>str</td><td>f64</td><td>i64</td><td>f64</td><td>str</td><td>i64</td><td>i64</td></tr></thead><tbody><tr><td>&quot;2024-06-15T17:00:00.000000&quot;</td><td>&quot;ASSET-000&quot;</td><td>&quot;SolarFarmA&quot;</td><td>462.53</td><td>500</td><td>0.92506</td><td>&quot;2024-06-15&quot;</td><td>17</td><td>6</td></tr><tr><td>&quot;2024-06-11T00:00:00.000000&quot;</td><td>&quot;ASSET-004&quot;</td><td>&quot;SolarFarmB&quot;</td><td>555.78</td><td>600</td><td>0.9263</td><td>&quot;2024-06-11&quot;</td><td>0</td><td>2</td></tr><tr><td>&quot;2024-06-20T11:00:00.000000&quot;</td><td>&quot;ASSET-004&quot;</td><td>&quot;SolarFarmB&quot;</td><td>564.47</td><td>600</td><td>0.940783</td><td>&quot;2024-06-20&quot;</td><td>11</td><td>4</td></tr><tr><td>&quot;2024-06-03T11:00:00.000000&quot;</td><td>&quot;ASSET-007&quot;</td><td>&quot;SolarFarmA&quot;</td><td>571.61</td><td>600</td><td>0.952683</td><td>&quot;2024-06-03&quot;</td><td>11</td><td>1</td></tr></tbody></table></div>"
      ],
      "text/plain": [
       "shape: (4, 9)\n",
       "┌──────────────┬───────────┬────────────┬──────────┬───┬─────────────┬────────────┬──────┬─────────┐\n",
       "│ timestamp    ┆ asset_id  ┆ site       ┆ power_kw ┆ … ┆ capacity_fa ┆ date       ┆ hour ┆ weekday │\n",
       "│ ---          ┆ ---       ┆ ---        ┆ ---      ┆   ┆ ctor        ┆ ---        ┆ ---  ┆ ---     │\n",
       "│ str          ┆ str       ┆ str        ┆ f64      ┆   ┆ ---         ┆ str        ┆ i64  ┆ i64     │\n",
       "│              ┆           ┆            ┆          ┆   ┆ f64         ┆            ┆      ┆         │\n",
       "╞══════════════╪═══════════╪════════════╪══════════╪═══╪═════════════╪════════════╪══════╪═════════╡\n",
       "│ 2024-06-15T1 ┆ ASSET-000 ┆ SolarFarmA ┆ 462.53   ┆ … ┆ 0.92506     ┆ 2024-06-15 ┆ 17   ┆ 6       │\n",
       "│ 7:00:00.0000 ┆           ┆            ┆          ┆   ┆             ┆            ┆      ┆         │\n",
       "│ 00           ┆           ┆            ┆          ┆   ┆             ┆            ┆      ┆         │\n",
       "│ 2024-06-11T0 ┆ ASSET-004 ┆ SolarFarmB ┆ 555.78   ┆ … ┆ 0.9263      ┆ 2024-06-11 ┆ 0    ┆ 2       │\n",
       "│ 0:00:00.0000 ┆           ┆            ┆          ┆   ┆             ┆            ┆      ┆         │\n",
       "│ 00           ┆           ┆            ┆          ┆   ┆             ┆            ┆      ┆         │\n",
       "│ 2024-06-20T1 ┆ ASSET-004 ┆ SolarFarmB ┆ 564.47   ┆ … ┆ 0.940783    ┆ 2024-06-20 ┆ 11   ┆ 4       │\n",
       "│ 1:00:00.0000 ┆           ┆            ┆          ┆   ┆             ┆            ┆      ┆         │\n",
       "│ 00           ┆           ┆            ┆          ┆   ┆             ┆            ┆      ┆         │\n",
       "│ 2024-06-03T1 ┆ ASSET-007 ┆ SolarFarmA ┆ 571.61   ┆ … ┆ 0.952683    ┆ 2024-06-03 ┆ 11   ┆ 1       │\n",
       "│ 1:00:00.0000 ┆           ┆            ┆          ┆   ┆             ┆            ┆      ┆         │\n",
       "│ 00           ┆           ┆            ┆          ┆   ┆             ┆            ┆      ┆         │\n",
       "└──────────────┴───────────┴────────────┴──────────┴───┴─────────────┴────────────┴──────┴─────────┘"
      ]
     },
     "execution_count": 7,
     "metadata": {},
     "output_type": "execute_result"
    }
   ],
   "source": [
    "df.filter(pl.col('capacity_factor') > 0.9)"
   ]
  },
  {
   "cell_type": "markdown",
   "id": "0589e63e",
   "metadata": {},
   "source": [
    "## Select Columns"
   ]
  },
  {
   "cell_type": "code",
   "execution_count": 8,
   "id": "5be3c2c5",
   "metadata": {},
   "outputs": [
    {
     "data": {
      "text/html": [
       "<div><style>\n",
       ".dataframe > thead > tr,\n",
       ".dataframe > tbody > tr {\n",
       "  text-align: right;\n",
       "  white-space: pre-wrap;\n",
       "}\n",
       "</style>\n",
       "<small>shape: (7_200, 1)</small><table border=\"1\" class=\"dataframe\"><thead><tr><th>capacity_factor_percentage</th></tr><tr><td>f64</td></tr></thead><tbody><tr><td>56.858</td></tr><tr><td>62.028</td></tr><tr><td>64.998</td></tr><tr><td>55.758</td></tr><tr><td>39.698</td></tr><tr><td>&hellip;</td></tr><tr><td>68.3575</td></tr><tr><td>60.66</td></tr><tr><td>63.2875</td></tr><tr><td>64.7975</td></tr><tr><td>72.3925</td></tr></tbody></table></div>"
      ],
      "text/plain": [
       "shape: (7_200, 1)\n",
       "┌────────────────────────────┐\n",
       "│ capacity_factor_percentage │\n",
       "│ ---                        │\n",
       "│ f64                        │\n",
       "╞════════════════════════════╡\n",
       "│ 56.858                     │\n",
       "│ 62.028                     │\n",
       "│ 64.998                     │\n",
       "│ 55.758                     │\n",
       "│ 39.698                     │\n",
       "│ …                          │\n",
       "│ 68.3575                    │\n",
       "│ 60.66                      │\n",
       "│ 63.2875                    │\n",
       "│ 64.7975                    │\n",
       "│ 72.3925                    │\n",
       "└────────────────────────────┘"
      ]
     },
     "execution_count": 8,
     "metadata": {},
     "output_type": "execute_result"
    }
   ],
   "source": [
    "df.select(\n",
    "    (pl.col('capacity_factor') * 100).alias('capacity_factor_percentage') \n",
    ")"
   ]
  },
  {
   "cell_type": "code",
   "execution_count": 9,
   "id": "70063061",
   "metadata": {},
   "outputs": [
    {
     "data": {
      "text/html": [
       "<div><style>\n",
       ".dataframe > thead > tr,\n",
       ".dataframe > tbody > tr {\n",
       "  text-align: right;\n",
       "  white-space: pre-wrap;\n",
       "}\n",
       "</style>\n",
       "<small>shape: (7_200, 2)</small><table border=\"1\" class=\"dataframe\"><thead><tr><th>date</th><th>timestamp</th></tr><tr><td>str</td><td>str</td></tr></thead><tbody><tr><td>&quot;2024-06-01&quot;</td><td>&quot;2024-06-01T00:00:00.000000&quot;</td></tr><tr><td>&quot;2024-06-01&quot;</td><td>&quot;2024-06-01T01:00:00.000000&quot;</td></tr><tr><td>&quot;2024-06-01&quot;</td><td>&quot;2024-06-01T02:00:00.000000&quot;</td></tr><tr><td>&quot;2024-06-01&quot;</td><td>&quot;2024-06-01T03:00:00.000000&quot;</td></tr><tr><td>&quot;2024-06-01&quot;</td><td>&quot;2024-06-01T04:00:00.000000&quot;</td></tr><tr><td>&hellip;</td><td>&hellip;</td></tr><tr><td>&quot;2024-06-30&quot;</td><td>&quot;2024-06-30T19:00:00.000000&quot;</td></tr><tr><td>&quot;2024-06-30&quot;</td><td>&quot;2024-06-30T20:00:00.000000&quot;</td></tr><tr><td>&quot;2024-06-30&quot;</td><td>&quot;2024-06-30T21:00:00.000000&quot;</td></tr><tr><td>&quot;2024-06-30&quot;</td><td>&quot;2024-06-30T22:00:00.000000&quot;</td></tr><tr><td>&quot;2024-06-30&quot;</td><td>&quot;2024-06-30T23:00:00.000000&quot;</td></tr></tbody></table></div>"
      ],
      "text/plain": [
       "shape: (7_200, 2)\n",
       "┌────────────┬────────────────────────────┐\n",
       "│ date       ┆ timestamp                  │\n",
       "│ ---        ┆ ---                        │\n",
       "│ str        ┆ str                        │\n",
       "╞════════════╪════════════════════════════╡\n",
       "│ 2024-06-01 ┆ 2024-06-01T00:00:00.000000 │\n",
       "│ 2024-06-01 ┆ 2024-06-01T01:00:00.000000 │\n",
       "│ 2024-06-01 ┆ 2024-06-01T02:00:00.000000 │\n",
       "│ 2024-06-01 ┆ 2024-06-01T03:00:00.000000 │\n",
       "│ 2024-06-01 ┆ 2024-06-01T04:00:00.000000 │\n",
       "│ …          ┆ …                          │\n",
       "│ 2024-06-30 ┆ 2024-06-30T19:00:00.000000 │\n",
       "│ 2024-06-30 ┆ 2024-06-30T20:00:00.000000 │\n",
       "│ 2024-06-30 ┆ 2024-06-30T21:00:00.000000 │\n",
       "│ 2024-06-30 ┆ 2024-06-30T22:00:00.000000 │\n",
       "│ 2024-06-30 ┆ 2024-06-30T23:00:00.000000 │\n",
       "└────────────┴────────────────────────────┘"
      ]
     },
     "execution_count": 9,
     "metadata": {},
     "output_type": "execute_result"
    }
   ],
   "source": [
    "df.select(\n",
    "    pl.col('date'),\n",
    "    pl.col('timestamp')\n",
    ")"
   ]
  },
  {
   "cell_type": "markdown",
   "id": "8bf184ea",
   "metadata": {},
   "source": [
    "# Alter column data types"
   ]
  },
  {
   "cell_type": "code",
   "execution_count": 10,
   "id": "7d7376b9",
   "metadata": {},
   "outputs": [
    {
     "data": {
      "text/html": [
       "<div><style>\n",
       ".dataframe > thead > tr,\n",
       ".dataframe > tbody > tr {\n",
       "  text-align: right;\n",
       "  white-space: pre-wrap;\n",
       "}\n",
       "</style>\n",
       "<small>shape: (5, 9)</small><table border=\"1\" class=\"dataframe\"><thead><tr><th>timestamp</th><th>asset_id</th><th>site</th><th>power_kw</th><th>capacity_kw</th><th>capacity_factor</th><th>date</th><th>hour</th><th>weekday</th></tr><tr><td>datetime[μs]</td><td>str</td><td>str</td><td>f64</td><td>i64</td><td>f64</td><td>date</td><td>i64</td><td>i64</td></tr></thead><tbody><tr><td>2024-06-01 00:00:00</td><td>&quot;ASSET-000&quot;</td><td>&quot;SolarFarmA&quot;</td><td>284.29</td><td>500</td><td>0.56858</td><td>2024-06-01</td><td>0</td><td>6</td></tr><tr><td>2024-06-01 01:00:00</td><td>&quot;ASSET-000&quot;</td><td>&quot;SolarFarmA&quot;</td><td>310.14</td><td>500</td><td>0.62028</td><td>2024-06-01</td><td>1</td><td>6</td></tr><tr><td>2024-06-01 02:00:00</td><td>&quot;ASSET-000&quot;</td><td>&quot;SolarFarmA&quot;</td><td>324.99</td><td>500</td><td>0.64998</td><td>2024-06-01</td><td>2</td><td>6</td></tr><tr><td>2024-06-01 03:00:00</td><td>&quot;ASSET-000&quot;</td><td>&quot;SolarFarmA&quot;</td><td>278.79</td><td>500</td><td>0.55758</td><td>2024-06-01</td><td>3</td><td>6</td></tr><tr><td>2024-06-01 04:00:00</td><td>&quot;ASSET-000&quot;</td><td>&quot;SolarFarmA&quot;</td><td>198.49</td><td>500</td><td>0.39698</td><td>2024-06-01</td><td>4</td><td>6</td></tr></tbody></table></div>"
      ],
      "text/plain": [
       "shape: (5, 9)\n",
       "┌──────────────┬───────────┬────────────┬──────────┬───┬─────────────┬────────────┬──────┬─────────┐\n",
       "│ timestamp    ┆ asset_id  ┆ site       ┆ power_kw ┆ … ┆ capacity_fa ┆ date       ┆ hour ┆ weekday │\n",
       "│ ---          ┆ ---       ┆ ---        ┆ ---      ┆   ┆ ctor        ┆ ---        ┆ ---  ┆ ---     │\n",
       "│ datetime[μs] ┆ str       ┆ str        ┆ f64      ┆   ┆ ---         ┆ date       ┆ i64  ┆ i64     │\n",
       "│              ┆           ┆            ┆          ┆   ┆ f64         ┆            ┆      ┆         │\n",
       "╞══════════════╪═══════════╪════════════╪══════════╪═══╪═════════════╪════════════╪══════╪═════════╡\n",
       "│ 2024-06-01   ┆ ASSET-000 ┆ SolarFarmA ┆ 284.29   ┆ … ┆ 0.56858     ┆ 2024-06-01 ┆ 0    ┆ 6       │\n",
       "│ 00:00:00     ┆           ┆            ┆          ┆   ┆             ┆            ┆      ┆         │\n",
       "│ 2024-06-01   ┆ ASSET-000 ┆ SolarFarmA ┆ 310.14   ┆ … ┆ 0.62028     ┆ 2024-06-01 ┆ 1    ┆ 6       │\n",
       "│ 01:00:00     ┆           ┆            ┆          ┆   ┆             ┆            ┆      ┆         │\n",
       "│ 2024-06-01   ┆ ASSET-000 ┆ SolarFarmA ┆ 324.99   ┆ … ┆ 0.64998     ┆ 2024-06-01 ┆ 2    ┆ 6       │\n",
       "│ 02:00:00     ┆           ┆            ┆          ┆   ┆             ┆            ┆      ┆         │\n",
       "│ 2024-06-01   ┆ ASSET-000 ┆ SolarFarmA ┆ 278.79   ┆ … ┆ 0.55758     ┆ 2024-06-01 ┆ 3    ┆ 6       │\n",
       "│ 03:00:00     ┆           ┆            ┆          ┆   ┆             ┆            ┆      ┆         │\n",
       "│ 2024-06-01   ┆ ASSET-000 ┆ SolarFarmA ┆ 198.49   ┆ … ┆ 0.39698     ┆ 2024-06-01 ┆ 4    ┆ 6       │\n",
       "│ 04:00:00     ┆           ┆            ┆          ┆   ┆             ┆            ┆      ┆         │\n",
       "└──────────────┴───────────┴────────────┴──────────┴───┴─────────────┴────────────┴──────┴─────────┘"
      ]
     },
     "execution_count": 10,
     "metadata": {},
     "output_type": "execute_result"
    }
   ],
   "source": [
    "df = df.with_columns(\n",
    "    pl.col('date').str.strptime(pl.Date, format='%Y-%m-%d', strict=False).alias('date'),\n",
    "    pl.col('timestamp').str.strptime(pl.Datetime, strict=False).alias('timestamp')\n",
    ")\n",
    "df.head()\n",
    "\n"
   ]
  },
  {
   "cell_type": "code",
   "execution_count": 11,
   "id": "66f6979d",
   "metadata": {},
   "outputs": [
    {
     "data": {
      "text/html": [
       "<div><style>\n",
       ".dataframe > thead > tr,\n",
       ".dataframe > tbody > tr {\n",
       "  text-align: right;\n",
       "  white-space: pre-wrap;\n",
       "}\n",
       "</style>\n",
       "<small>shape: (7_200, 10)</small><table border=\"1\" class=\"dataframe\"><thead><tr><th>timestamp</th><th>asset_id</th><th>site</th><th>power_kw</th><th>capacity_kw</th><th>capacity_factor</th><th>date</th><th>hour</th><th>weekday</th><th>capacity_factor_percentage</th></tr><tr><td>datetime[μs]</td><td>str</td><td>str</td><td>f64</td><td>i64</td><td>f64</td><td>date</td><td>i64</td><td>i64</td><td>f64</td></tr></thead><tbody><tr><td>2024-06-01 00:00:00</td><td>&quot;ASSET-000&quot;</td><td>&quot;SolarFarmA&quot;</td><td>284.29</td><td>500</td><td>0.56858</td><td>2024-06-01</td><td>0</td><td>6</td><td>56.858</td></tr><tr><td>2024-06-01 01:00:00</td><td>&quot;ASSET-000&quot;</td><td>&quot;SolarFarmA&quot;</td><td>310.14</td><td>500</td><td>0.62028</td><td>2024-06-01</td><td>1</td><td>6</td><td>62.028</td></tr><tr><td>2024-06-01 02:00:00</td><td>&quot;ASSET-000&quot;</td><td>&quot;SolarFarmA&quot;</td><td>324.99</td><td>500</td><td>0.64998</td><td>2024-06-01</td><td>2</td><td>6</td><td>64.998</td></tr><tr><td>2024-06-01 03:00:00</td><td>&quot;ASSET-000&quot;</td><td>&quot;SolarFarmA&quot;</td><td>278.79</td><td>500</td><td>0.55758</td><td>2024-06-01</td><td>3</td><td>6</td><td>55.758</td></tr><tr><td>2024-06-01 04:00:00</td><td>&quot;ASSET-000&quot;</td><td>&quot;SolarFarmA&quot;</td><td>198.49</td><td>500</td><td>0.39698</td><td>2024-06-01</td><td>4</td><td>6</td><td>39.698</td></tr><tr><td>&hellip;</td><td>&hellip;</td><td>&hellip;</td><td>&hellip;</td><td>&hellip;</td><td>&hellip;</td><td>&hellip;</td><td>&hellip;</td><td>&hellip;</td><td>&hellip;</td></tr><tr><td>2024-06-30 19:00:00</td><td>&quot;ASSET-009&quot;</td><td>&quot;SolarFarmA&quot;</td><td>273.43</td><td>400</td><td>0.683575</td><td>2024-06-30</td><td>19</td><td>7</td><td>68.3575</td></tr><tr><td>2024-06-30 20:00:00</td><td>&quot;ASSET-009&quot;</td><td>&quot;SolarFarmA&quot;</td><td>242.64</td><td>400</td><td>0.6066</td><td>2024-06-30</td><td>20</td><td>7</td><td>60.66</td></tr><tr><td>2024-06-30 21:00:00</td><td>&quot;ASSET-009&quot;</td><td>&quot;SolarFarmA&quot;</td><td>253.15</td><td>400</td><td>0.632875</td><td>2024-06-30</td><td>21</td><td>7</td><td>63.2875</td></tr><tr><td>2024-06-30 22:00:00</td><td>&quot;ASSET-009&quot;</td><td>&quot;SolarFarmA&quot;</td><td>259.19</td><td>400</td><td>0.647975</td><td>2024-06-30</td><td>22</td><td>7</td><td>64.7975</td></tr><tr><td>2024-06-30 23:00:00</td><td>&quot;ASSET-009&quot;</td><td>&quot;SolarFarmA&quot;</td><td>289.57</td><td>400</td><td>0.723925</td><td>2024-06-30</td><td>23</td><td>7</td><td>72.3925</td></tr></tbody></table></div>"
      ],
      "text/plain": [
       "shape: (7_200, 10)\n",
       "┌──────────────┬───────────┬────────────┬──────────┬───┬────────────┬──────┬─────────┬─────────────┐\n",
       "│ timestamp    ┆ asset_id  ┆ site       ┆ power_kw ┆ … ┆ date       ┆ hour ┆ weekday ┆ capacity_fa │\n",
       "│ ---          ┆ ---       ┆ ---        ┆ ---      ┆   ┆ ---        ┆ ---  ┆ ---     ┆ ctor_percen │\n",
       "│ datetime[μs] ┆ str       ┆ str        ┆ f64      ┆   ┆ date       ┆ i64  ┆ i64     ┆ tage        │\n",
       "│              ┆           ┆            ┆          ┆   ┆            ┆      ┆         ┆ ---         │\n",
       "│              ┆           ┆            ┆          ┆   ┆            ┆      ┆         ┆ f64         │\n",
       "╞══════════════╪═══════════╪════════════╪══════════╪═══╪════════════╪══════╪═════════╪═════════════╡\n",
       "│ 2024-06-01   ┆ ASSET-000 ┆ SolarFarmA ┆ 284.29   ┆ … ┆ 2024-06-01 ┆ 0    ┆ 6       ┆ 56.858      │\n",
       "│ 00:00:00     ┆           ┆            ┆          ┆   ┆            ┆      ┆         ┆             │\n",
       "│ 2024-06-01   ┆ ASSET-000 ┆ SolarFarmA ┆ 310.14   ┆ … ┆ 2024-06-01 ┆ 1    ┆ 6       ┆ 62.028      │\n",
       "│ 01:00:00     ┆           ┆            ┆          ┆   ┆            ┆      ┆         ┆             │\n",
       "│ 2024-06-01   ┆ ASSET-000 ┆ SolarFarmA ┆ 324.99   ┆ … ┆ 2024-06-01 ┆ 2    ┆ 6       ┆ 64.998      │\n",
       "│ 02:00:00     ┆           ┆            ┆          ┆   ┆            ┆      ┆         ┆             │\n",
       "│ 2024-06-01   ┆ ASSET-000 ┆ SolarFarmA ┆ 278.79   ┆ … ┆ 2024-06-01 ┆ 3    ┆ 6       ┆ 55.758      │\n",
       "│ 03:00:00     ┆           ┆            ┆          ┆   ┆            ┆      ┆         ┆             │\n",
       "│ 2024-06-01   ┆ ASSET-000 ┆ SolarFarmA ┆ 198.49   ┆ … ┆ 2024-06-01 ┆ 4    ┆ 6       ┆ 39.698      │\n",
       "│ 04:00:00     ┆           ┆            ┆          ┆   ┆            ┆      ┆         ┆             │\n",
       "│ …            ┆ …         ┆ …          ┆ …        ┆ … ┆ …          ┆ …    ┆ …       ┆ …           │\n",
       "│ 2024-06-30   ┆ ASSET-009 ┆ SolarFarmA ┆ 273.43   ┆ … ┆ 2024-06-30 ┆ 19   ┆ 7       ┆ 68.3575     │\n",
       "│ 19:00:00     ┆           ┆            ┆          ┆   ┆            ┆      ┆         ┆             │\n",
       "│ 2024-06-30   ┆ ASSET-009 ┆ SolarFarmA ┆ 242.64   ┆ … ┆ 2024-06-30 ┆ 20   ┆ 7       ┆ 60.66       │\n",
       "│ 20:00:00     ┆           ┆            ┆          ┆   ┆            ┆      ┆         ┆             │\n",
       "│ 2024-06-30   ┆ ASSET-009 ┆ SolarFarmA ┆ 253.15   ┆ … ┆ 2024-06-30 ┆ 21   ┆ 7       ┆ 63.2875     │\n",
       "│ 21:00:00     ┆           ┆            ┆          ┆   ┆            ┆      ┆         ┆             │\n",
       "│ 2024-06-30   ┆ ASSET-009 ┆ SolarFarmA ┆ 259.19   ┆ … ┆ 2024-06-30 ┆ 22   ┆ 7       ┆ 64.7975     │\n",
       "│ 22:00:00     ┆           ┆            ┆          ┆   ┆            ┆      ┆         ┆             │\n",
       "│ 2024-06-30   ┆ ASSET-009 ┆ SolarFarmA ┆ 289.57   ┆ … ┆ 2024-06-30 ┆ 23   ┆ 7       ┆ 72.3925     │\n",
       "│ 23:00:00     ┆           ┆            ┆          ┆   ┆            ┆      ┆         ┆             │\n",
       "└──────────────┴───────────┴────────────┴──────────┴───┴────────────┴──────┴─────────┴─────────────┘"
      ]
     },
     "execution_count": 11,
     "metadata": {},
     "output_type": "execute_result"
    }
   ],
   "source": [
    "df.with_columns(\n",
    "    (pl.col('capacity_factor') * 100).alias('capacity_factor_percentage') \n",
    ")"
   ]
  },
  {
   "cell_type": "markdown",
   "id": "2744e586",
   "metadata": {},
   "source": [
    "## Grouping and Aggregation"
   ]
  },
  {
   "cell_type": "code",
   "execution_count": 12,
   "id": "92be234a",
   "metadata": {},
   "outputs": [
    {
     "data": {
      "text/html": [
       "<div><style>\n",
       ".dataframe > thead > tr,\n",
       ".dataframe > tbody > tr {\n",
       "  text-align: right;\n",
       "  white-space: pre-wrap;\n",
       "}\n",
       "</style>\n",
       "<small>shape: (3, 3)</small><table border=\"1\" class=\"dataframe\"><thead><tr><th>site</th><th>mean_power_kw</th><th>count</th></tr><tr><td>str</td><td>f64</td><td>u32</td></tr></thead><tbody><tr><td>&quot;WindFarmA&quot;</td><td>799.334892</td><td>2880</td></tr><tr><td>&quot;SolarFarmA&quot;</td><td>299.019792</td><td>2160</td></tr><tr><td>&quot;SolarFarmB&quot;</td><td>300.241477</td><td>2160</td></tr></tbody></table></div>"
      ],
      "text/plain": [
       "shape: (3, 3)\n",
       "┌────────────┬───────────────┬───────┐\n",
       "│ site       ┆ mean_power_kw ┆ count │\n",
       "│ ---        ┆ ---           ┆ ---   │\n",
       "│ str        ┆ f64           ┆ u32   │\n",
       "╞════════════╪═══════════════╪═══════╡\n",
       "│ WindFarmA  ┆ 799.334892    ┆ 2880  │\n",
       "│ SolarFarmA ┆ 299.019792    ┆ 2160  │\n",
       "│ SolarFarmB ┆ 300.241477    ┆ 2160  │\n",
       "└────────────┴───────────────┴───────┘"
      ]
     },
     "execution_count": 12,
     "metadata": {},
     "output_type": "execute_result"
    }
   ],
   "source": [
    "df.group_by('site').agg(\n",
    "    pl.col('power_kw').mean().alias('mean_power_kw'),\n",
    "    pl.len().alias('count')\n",
    ")"
   ]
  },
  {
   "cell_type": "markdown",
   "id": "d6c69274",
   "metadata": {},
   "source": [
    "## Lazy Frame"
   ]
  },
  {
   "cell_type": "code",
   "execution_count": 13,
   "id": "1677f3e6",
   "metadata": {},
   "outputs": [],
   "source": [
    "lf = df.lazy()\n",
    "summary = lf.group_by('site').agg(\n",
    "    pl.col('power_kw').mean().alias('mean_power_kw')\n",
    ")"
   ]
  },
  {
   "cell_type": "code",
   "execution_count": 14,
   "id": "37d26efe",
   "metadata": {},
   "outputs": [
    {
     "data": {
      "text/html": [
       "<div><style>\n",
       ".dataframe > thead > tr,\n",
       ".dataframe > tbody > tr {\n",
       "  text-align: right;\n",
       "  white-space: pre-wrap;\n",
       "}\n",
       "</style>\n",
       "<small>shape: (7_200, 9)</small><table border=\"1\" class=\"dataframe\"><thead><tr><th>timestamp</th><th>asset_id</th><th>site</th><th>power_kw</th><th>capacity_kw</th><th>capacity_factor</th><th>date</th><th>hour</th><th>weekday</th></tr><tr><td>datetime[μs]</td><td>str</td><td>str</td><td>f64</td><td>i64</td><td>f64</td><td>date</td><td>i64</td><td>i64</td></tr></thead><tbody><tr><td>2024-06-01 00:00:00</td><td>&quot;ASSET-000&quot;</td><td>&quot;SolarFarmA&quot;</td><td>284.29</td><td>500</td><td>0.56858</td><td>2024-06-01</td><td>0</td><td>6</td></tr><tr><td>2024-06-01 01:00:00</td><td>&quot;ASSET-000&quot;</td><td>&quot;SolarFarmA&quot;</td><td>310.14</td><td>500</td><td>0.62028</td><td>2024-06-01</td><td>1</td><td>6</td></tr><tr><td>2024-06-01 02:00:00</td><td>&quot;ASSET-000&quot;</td><td>&quot;SolarFarmA&quot;</td><td>324.99</td><td>500</td><td>0.64998</td><td>2024-06-01</td><td>2</td><td>6</td></tr><tr><td>2024-06-01 03:00:00</td><td>&quot;ASSET-000&quot;</td><td>&quot;SolarFarmA&quot;</td><td>278.79</td><td>500</td><td>0.55758</td><td>2024-06-01</td><td>3</td><td>6</td></tr><tr><td>2024-06-01 04:00:00</td><td>&quot;ASSET-000&quot;</td><td>&quot;SolarFarmA&quot;</td><td>198.49</td><td>500</td><td>0.39698</td><td>2024-06-01</td><td>4</td><td>6</td></tr><tr><td>&hellip;</td><td>&hellip;</td><td>&hellip;</td><td>&hellip;</td><td>&hellip;</td><td>&hellip;</td><td>&hellip;</td><td>&hellip;</td><td>&hellip;</td></tr><tr><td>2024-06-30 19:00:00</td><td>&quot;ASSET-009&quot;</td><td>&quot;SolarFarmA&quot;</td><td>273.43</td><td>400</td><td>0.683575</td><td>2024-06-30</td><td>19</td><td>7</td></tr><tr><td>2024-06-30 20:00:00</td><td>&quot;ASSET-009&quot;</td><td>&quot;SolarFarmA&quot;</td><td>242.64</td><td>400</td><td>0.6066</td><td>2024-06-30</td><td>20</td><td>7</td></tr><tr><td>2024-06-30 21:00:00</td><td>&quot;ASSET-009&quot;</td><td>&quot;SolarFarmA&quot;</td><td>253.15</td><td>400</td><td>0.632875</td><td>2024-06-30</td><td>21</td><td>7</td></tr><tr><td>2024-06-30 22:00:00</td><td>&quot;ASSET-009&quot;</td><td>&quot;SolarFarmA&quot;</td><td>259.19</td><td>400</td><td>0.647975</td><td>2024-06-30</td><td>22</td><td>7</td></tr><tr><td>2024-06-30 23:00:00</td><td>&quot;ASSET-009&quot;</td><td>&quot;SolarFarmA&quot;</td><td>289.57</td><td>400</td><td>0.723925</td><td>2024-06-30</td><td>23</td><td>7</td></tr></tbody></table></div>"
      ],
      "text/plain": [
       "shape: (7_200, 9)\n",
       "┌──────────────┬───────────┬────────────┬──────────┬───┬─────────────┬────────────┬──────┬─────────┐\n",
       "│ timestamp    ┆ asset_id  ┆ site       ┆ power_kw ┆ … ┆ capacity_fa ┆ date       ┆ hour ┆ weekday │\n",
       "│ ---          ┆ ---       ┆ ---        ┆ ---      ┆   ┆ ctor        ┆ ---        ┆ ---  ┆ ---     │\n",
       "│ datetime[μs] ┆ str       ┆ str        ┆ f64      ┆   ┆ ---         ┆ date       ┆ i64  ┆ i64     │\n",
       "│              ┆           ┆            ┆          ┆   ┆ f64         ┆            ┆      ┆         │\n",
       "╞══════════════╪═══════════╪════════════╪══════════╪═══╪═════════════╪════════════╪══════╪═════════╡\n",
       "│ 2024-06-01   ┆ ASSET-000 ┆ SolarFarmA ┆ 284.29   ┆ … ┆ 0.56858     ┆ 2024-06-01 ┆ 0    ┆ 6       │\n",
       "│ 00:00:00     ┆           ┆            ┆          ┆   ┆             ┆            ┆      ┆         │\n",
       "│ 2024-06-01   ┆ ASSET-000 ┆ SolarFarmA ┆ 310.14   ┆ … ┆ 0.62028     ┆ 2024-06-01 ┆ 1    ┆ 6       │\n",
       "│ 01:00:00     ┆           ┆            ┆          ┆   ┆             ┆            ┆      ┆         │\n",
       "│ 2024-06-01   ┆ ASSET-000 ┆ SolarFarmA ┆ 324.99   ┆ … ┆ 0.64998     ┆ 2024-06-01 ┆ 2    ┆ 6       │\n",
       "│ 02:00:00     ┆           ┆            ┆          ┆   ┆             ┆            ┆      ┆         │\n",
       "│ 2024-06-01   ┆ ASSET-000 ┆ SolarFarmA ┆ 278.79   ┆ … ┆ 0.55758     ┆ 2024-06-01 ┆ 3    ┆ 6       │\n",
       "│ 03:00:00     ┆           ┆            ┆          ┆   ┆             ┆            ┆      ┆         │\n",
       "│ 2024-06-01   ┆ ASSET-000 ┆ SolarFarmA ┆ 198.49   ┆ … ┆ 0.39698     ┆ 2024-06-01 ┆ 4    ┆ 6       │\n",
       "│ 04:00:00     ┆           ┆            ┆          ┆   ┆             ┆            ┆      ┆         │\n",
       "│ …            ┆ …         ┆ …          ┆ …        ┆ … ┆ …           ┆ …          ┆ …    ┆ …       │\n",
       "│ 2024-06-30   ┆ ASSET-009 ┆ SolarFarmA ┆ 273.43   ┆ … ┆ 0.683575    ┆ 2024-06-30 ┆ 19   ┆ 7       │\n",
       "│ 19:00:00     ┆           ┆            ┆          ┆   ┆             ┆            ┆      ┆         │\n",
       "│ 2024-06-30   ┆ ASSET-009 ┆ SolarFarmA ┆ 242.64   ┆ … ┆ 0.6066      ┆ 2024-06-30 ┆ 20   ┆ 7       │\n",
       "│ 20:00:00     ┆           ┆            ┆          ┆   ┆             ┆            ┆      ┆         │\n",
       "│ 2024-06-30   ┆ ASSET-009 ┆ SolarFarmA ┆ 253.15   ┆ … ┆ 0.632875    ┆ 2024-06-30 ┆ 21   ┆ 7       │\n",
       "│ 21:00:00     ┆           ┆            ┆          ┆   ┆             ┆            ┆      ┆         │\n",
       "│ 2024-06-30   ┆ ASSET-009 ┆ SolarFarmA ┆ 259.19   ┆ … ┆ 0.647975    ┆ 2024-06-30 ┆ 22   ┆ 7       │\n",
       "│ 22:00:00     ┆           ┆            ┆          ┆   ┆             ┆            ┆      ┆         │\n",
       "│ 2024-06-30   ┆ ASSET-009 ┆ SolarFarmA ┆ 289.57   ┆ … ┆ 0.723925    ┆ 2024-06-30 ┆ 23   ┆ 7       │\n",
       "│ 23:00:00     ┆           ┆            ┆          ┆   ┆             ┆            ┆      ┆         │\n",
       "└──────────────┴───────────┴────────────┴──────────┴───┴─────────────┴────────────┴──────┴─────────┘"
      ]
     },
     "execution_count": 14,
     "metadata": {},
     "output_type": "execute_result"
    }
   ],
   "source": [
    "lf.collect()"
   ]
  },
  {
   "cell_type": "markdown",
   "id": "24f4a981",
   "metadata": {},
   "source": [
    "# Joining Data Frames"
   ]
  },
  {
   "cell_type": "markdown",
   "id": "c2f5c6cc",
   "metadata": {},
   "source": [
    "## Sample DFs"
   ]
  },
  {
   "cell_type": "code",
   "execution_count": 15,
   "id": "2e94cf5a",
   "metadata": {},
   "outputs": [],
   "source": [
    "# Main power data\n",
    "df_power = pl.DataFrame({\n",
    "    \"timestamp\": [\"2024-06-01T00:00\", \"2024-06-01T01:00\", \"2024-06-01T01:00\"],\n",
    "    \"asset_id\": [\"ASSET-001\", \"ASSET-001\", \"ASSET-002\"],\n",
    "    \"power_kw\": [245.5, 289.2, 310.7],\n",
    "})\n",
    "\n",
    "# Metadata for assets\n",
    "df_assets = pl.DataFrame({\n",
    "    \"asset_id\": [\"ASSET-001\", \"ASSET-002\"],\n",
    "    \"location\": [\"Arizona\", \"California\"],\n",
    "    \"asset_type\": [\"Solar\", \"Wind\"]\n",
    "})\n",
    "\n",
    "df_weather = pl.DataFrame({\n",
    "    \"timestamp\": [\"2024-06-01T00:00\", \"2024-06-01T01:00\", \"2024-06-01T01:00\"],\n",
    "    \"asset_id\": [\"ASSET-001\", \"ASSET-001\", \"ASSET-002\"],\n",
    "    \"temperature_c\": [32.5, 33.1, 29.8],\n",
    "    \"wind_speed_mph\": [5.2, 4.8, 7.1]\n",
    "})"
   ]
  },
  {
   "cell_type": "code",
   "execution_count": 16,
   "id": "33d57231",
   "metadata": {},
   "outputs": [
    {
     "name": "stdout",
     "output_type": "stream",
     "text": [
      "shape: (3, 5)\n",
      "┌──────────────────┬───────────┬──────────┬────────────┬────────────┐\n",
      "│ timestamp        ┆ asset_id  ┆ power_kw ┆ location   ┆ asset_type │\n",
      "│ ---              ┆ ---       ┆ ---      ┆ ---        ┆ ---        │\n",
      "│ str              ┆ str       ┆ f64      ┆ str        ┆ str        │\n",
      "╞══════════════════╪═══════════╪══════════╪════════════╪════════════╡\n",
      "│ 2024-06-01T00:00 ┆ ASSET-001 ┆ 245.5    ┆ Arizona    ┆ Solar      │\n",
      "│ 2024-06-01T01:00 ┆ ASSET-001 ┆ 289.2    ┆ Arizona    ┆ Solar      │\n",
      "│ 2024-06-01T01:00 ┆ ASSET-002 ┆ 310.7    ┆ California ┆ Wind       │\n",
      "└──────────────────┴───────────┴──────────┴────────────┴────────────┘\n"
     ]
    }
   ],
   "source": [
    "# Inner Join on 'asset_id'\n",
    "df_joined = df_power.join(df_assets, on=\"asset_id\", how=\"inner\")\n",
    "print(df_joined)"
   ]
  },
  {
   "cell_type": "markdown",
   "id": "402a2314",
   "metadata": {},
   "source": [
    "You can use these how= options:\n",
    "\n",
    "\t•\t\"inner\" – only matching rows\n",
    "\t•\t\"left\" – keep all rows from df_power\n",
    "\t•\t\"outer\" – keep all rows from both\n",
    "\t•\t\"semi\" – like filter; keeps rows from df_power with matches in df_assets\n",
    "\t•\t\"anti\" – keeps rows without matches"
   ]
  },
  {
   "cell_type": "markdown",
   "id": "926a68ff",
   "metadata": {},
   "source": [
    "## Lazy Joins"
   ]
  },
  {
   "cell_type": "code",
   "execution_count": 17,
   "id": "f895744f",
   "metadata": {},
   "outputs": [],
   "source": [
    "lf_power = df_power.lazy()\n",
    "lf_assets = df_assets.lazy()\n",
    "\n",
    "lf_joined = lf_power.join(lf_assets, on=\"asset_id\", how=\"inner\").collect()"
   ]
  },
  {
   "cell_type": "markdown",
   "id": "bf5fdbf4",
   "metadata": {},
   "source": [
    "## Multi-Key Join"
   ]
  },
  {
   "cell_type": "code",
   "execution_count": 18,
   "id": "83f1ec08",
   "metadata": {},
   "outputs": [
    {
     "name": "stdout",
     "output_type": "stream",
     "text": [
      "shape: (3, 5)\n",
      "┌──────────────────┬───────────┬──────────┬───────────────┬────────────────┐\n",
      "│ timestamp        ┆ asset_id  ┆ power_kw ┆ temperature_c ┆ wind_speed_mph │\n",
      "│ ---              ┆ ---       ┆ ---      ┆ ---           ┆ ---            │\n",
      "│ str              ┆ str       ┆ f64      ┆ f64           ┆ f64            │\n",
      "╞══════════════════╪═══════════╪══════════╪═══════════════╪════════════════╡\n",
      "│ 2024-06-01T00:00 ┆ ASSET-001 ┆ 245.5    ┆ 32.5          ┆ 5.2            │\n",
      "│ 2024-06-01T01:00 ┆ ASSET-001 ┆ 289.2    ┆ 33.1          ┆ 4.8            │\n",
      "│ 2024-06-01T01:00 ┆ ASSET-002 ┆ 310.7    ┆ 29.8          ┆ 7.1            │\n",
      "└──────────────────┴───────────┴──────────┴───────────────┴────────────────┘\n"
     ]
    }
   ],
   "source": [
    "df_joined = df_power.join(\n",
    "    df_weather,\n",
    "    on=[\"asset_id\", \"timestamp\"],\n",
    "    how=\"inner\"\n",
    ")\n",
    "\n",
    "print(df_joined)"
   ]
  },
  {
   "cell_type": "markdown",
   "id": "fd867226",
   "metadata": {},
   "source": [
    "## Checking DuckDB"
   ]
  },
  {
   "cell_type": "code",
   "execution_count": 19,
   "id": "ccfd22e2",
   "metadata": {},
   "outputs": [
    {
     "name": "stdout",
     "output_type": "stream",
     "text": [
      "[('plant_efficiency',), ('plant_locations',), ('power_output_cleaned',), ('power_summary',), ('power_trends_by_day',), ('power_with_locations',)]\n"
     ]
    }
   ],
   "source": [
    "import duckdb\n",
    "\n",
    "con = duckdb.connect(\"../data/energy.duckdb\")\n",
    "print(con.execute(\"SHOW TABLES\").fetchall())"
   ]
  },
  {
   "cell_type": "code",
   "execution_count": 20,
   "id": "bf037c59",
   "metadata": {},
   "outputs": [
    {
     "name": "stdout",
     "output_type": "stream",
     "text": [
      "            timestamp   asset_id        site  power_kw  capacity_kw  \\\n",
      "0 2024-06-01 00:00:00  ASSET-000  SolarFarmA    284.29          500   \n",
      "1 2024-06-01 01:00:00  ASSET-000  SolarFarmA    310.14          500   \n",
      "\n",
      "   capacity_factor       date  hour  weekday  \n",
      "0          0.56858 2024-06-01     0        6  \n",
      "1          0.62028 2024-06-01     1        6  \n"
     ]
    }
   ],
   "source": [
    "df = con.execute(\"SELECT * FROM power_output_cleaned LIMIT 2\").fetchdf()\n",
    "print(df)"
   ]
  },
  {
   "cell_type": "code",
   "execution_count": 21,
   "id": "c11a9390",
   "metadata": {},
   "outputs": [
    {
     "name": "stdout",
     "output_type": "stream",
     "text": [
      "         site  avg_power_output\n",
      "0   WindFarmA        799.334892\n",
      "1  SolarFarmA        299.019792\n",
      "2  SolarFarmB        300.241477\n"
     ]
    }
   ],
   "source": [
    "df = con.execute(\"SELECT * FROM power_summary\").df()\n",
    "print(df.head())"
   ]
  },
  {
   "cell_type": "code",
   "execution_count": 22,
   "id": "805018a7",
   "metadata": {},
   "outputs": [
    {
     "name": "stdout",
     "output_type": "stream",
     "text": [
      "    plant_id  avg_power_kw  capacity_kw  efficiency\n",
      "0  ASSET-000    298.621583          500    0.597243\n",
      "1  ASSET-005    988.060028         2500    0.395224\n",
      "2  ASSET-003    239.988444          400    0.599971\n",
      "3  ASSET-009    239.560597          400    0.598901\n",
      "4  ASSET-001    299.256639          500    0.598513\n"
     ]
    }
   ],
   "source": [
    "df = con.execute(\"SELECT * FROM plant_efficiency\").df()\n",
    "print(df.head())"
   ]
  },
  {
   "cell_type": "code",
   "execution_count": 23,
   "id": "a13c58ef",
   "metadata": {},
   "outputs": [
    {
     "name": "stdout",
     "output_type": "stream",
     "text": [
      "    plant_id    location  capacity_mw  commissioning_year\n",
      "0  ASSET-001  California        120.5                2015\n",
      "1  ASSET-002       Texas         98.7                2017\n",
      "2  ASSET-003     Arizona        135.2                2014\n",
      "3  ASSET-004      Nevada         88.0                2016\n",
      "4  ASSET-005    Colorado        102.3                2018\n"
     ]
    }
   ],
   "source": [
    "df = con.execute(\"SELECT * FROM plant_locations\").df()\n",
    "print(df.head())"
   ]
  },
  {
   "cell_type": "code",
   "execution_count": 24,
   "id": "1a0a5997",
   "metadata": {},
   "outputs": [
    {
     "name": "stdout",
     "output_type": "stream",
     "text": [
      "            timestamp   asset_id  power_kw  capacity_kw  capacity_factor  \\\n",
      "0 2024-06-01 00:00:00  ASSET-001    234.62          500          0.46924   \n",
      "1 2024-06-01 01:00:00  ASSET-001    376.41          500          0.75282   \n",
      "2 2024-06-01 02:00:00  ASSET-001    205.73          500          0.41146   \n",
      "3 2024-06-01 03:00:00  ASSET-001    289.00          500          0.57800   \n",
      "4 2024-06-01 04:00:00  ASSET-001    255.94          500          0.51188   \n",
      "\n",
      "     location  \n",
      "0  California  \n",
      "1  California  \n",
      "2  California  \n",
      "3  California  \n",
      "4  California  \n"
     ]
    }
   ],
   "source": [
    "df = con.execute(\"SELECT * FROM power_with_locations\").df()\n",
    "print(df.head())"
   ]
  },
  {
   "cell_type": "code",
   "execution_count": 28,
   "id": "fe24e8df",
   "metadata": {},
   "outputs": [
    {
     "name": "stdout",
     "output_type": "stream",
     "text": [
      "        date       state  total_power_kw  avg_capacity_factor\n",
      "0 2024-06-01     Arizona         5870.45             0.611505\n",
      "1 2024-06-01  California         6726.01             0.560501\n",
      "2 2024-06-01    Colorado        23960.95             0.399349\n",
      "3 2024-06-01      Nevada         8851.01             0.614653\n",
      "4 2024-06-01  New Mexico        19424.34             0.404674\n"
     ]
    },
    {
     "data": {
      "text/plain": [
       "<DatetimeArray>\n",
       "['2024-06-01 00:00:00', '2024-06-02 00:00:00', '2024-06-03 00:00:00',\n",
       " '2024-06-04 00:00:00', '2024-06-05 00:00:00', '2024-06-06 00:00:00',\n",
       " '2024-06-07 00:00:00', '2024-06-08 00:00:00', '2024-06-09 00:00:00',\n",
       " '2024-06-10 00:00:00', '2024-06-11 00:00:00', '2024-06-12 00:00:00',\n",
       " '2024-06-13 00:00:00', '2024-06-14 00:00:00', '2024-06-15 00:00:00',\n",
       " '2024-06-16 00:00:00', '2024-06-17 00:00:00', '2024-06-18 00:00:00',\n",
       " '2024-06-19 00:00:00', '2024-06-20 00:00:00', '2024-06-21 00:00:00',\n",
       " '2024-06-22 00:00:00', '2024-06-23 00:00:00', '2024-06-24 00:00:00',\n",
       " '2024-06-25 00:00:00', '2024-06-26 00:00:00', '2024-06-27 00:00:00',\n",
       " '2024-06-28 00:00:00', '2024-06-29 00:00:00', '2024-06-30 00:00:00']\n",
       "Length: 30, dtype: datetime64[us]"
      ]
     },
     "execution_count": 28,
     "metadata": {},
     "output_type": "execute_result"
    }
   ],
   "source": [
    "df = con.execute(\"SELECT * FROM power_trends_by_day\").df()\n",
    "print(df.head())\n",
    "\n",
    "df['date'].unique()"
   ]
  },
  {
   "cell_type": "code",
   "execution_count": null,
   "id": "f64e9632",
   "metadata": {},
   "outputs": [],
   "source": []
  }
 ],
 "metadata": {
  "kernelspec": {
   "display_name": ".venv",
   "language": "python",
   "name": "python3"
  },
  "language_info": {
   "codemirror_mode": {
    "name": "ipython",
    "version": 3
   },
   "file_extension": ".py",
   "mimetype": "text/x-python",
   "name": "python",
   "nbconvert_exporter": "python",
   "pygments_lexer": "ipython3",
   "version": "3.9.6"
  }
 },
 "nbformat": 4,
 "nbformat_minor": 5
}
